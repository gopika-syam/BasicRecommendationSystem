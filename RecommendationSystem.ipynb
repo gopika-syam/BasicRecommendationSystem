{
 "cells": [
  {
   "cell_type": "markdown",
   "id": "01cdc858",
   "metadata": {},
   "source": [
    "# Recommendation System"
   ]
  },
  {
   "cell_type": "markdown",
   "id": "65a22c27",
   "metadata": {},
   "source": [
    "#### This program build a recommendation system and determine cosine similarity between movies and list top 10 movies similar to \"Toy StoryI\""
   ]
  },
  {
   "cell_type": "code",
   "execution_count": null,
   "id": "103dd611",
   "metadata": {},
   "outputs": [],
   "source": [
    "# Import libraies\n",
    "import pandas as pd\n",
    "from sklearn.feature_extraction.text import TfidfVectorizer\n",
    "from sklearn.metrics.pairwise import linear_kernel"
   ]
  },
  {
   "cell_type": "code",
   "execution_count": null,
   "id": "89d13aad",
   "metadata": {},
   "outputs": [],
   "source": [
    "# Load Movies data\n",
    "metadata = pd.read_csv('dataset\\movies_metadata.csv', low_memory=False)\n",
    "#Print plot overviews of the first 5 movies.\n",
    "print(metadata['overview'].head())\n",
    "#Replace NaN values\n",
    "metadata['overview'] = metadata['overview'].fillna('')"
   ]
  },
  {
   "cell_type": "code",
   "execution_count": null,
   "id": "1dee2175",
   "metadata": {},
   "outputs": [],
   "source": [
    "#Removing stopwords and defining tf-idf vectorizer\n",
    "tfidf = TfidfVectorizer(stop_words='english')\n",
    "#Applying tf-idf on the data\n",
    "tfidf_matrix = tfidf.fit_transform(metadata['overview'])\n",
    "#Shape of tfidf_matrix\n",
    "print(tfidf_matrix.shape)\n",
    "#Mapping from feature integer indices to feature name.\n",
    "print(tfidf.get_feature_names()[5000:5010])"
   ]
  },
  {
   "cell_type": "code",
   "execution_count": null,
   "id": "381b1a31",
   "metadata": {},
   "outputs": [],
   "source": [
    "# Determining the cosine similarity matrix\n",
    "cosine_sim = linear_kernel(tfidf_matrix, tfidf_matrix)\n",
    "print('cosine similiarity matrix shape:', cosine_sim.shape)\n",
    "#Reverse map of indices to movie titles\n",
    "indices = pd.Series(metadata.index, index=metadata['title']).drop_duplicates()"
   ]
  },
  {
   "cell_type": "code",
   "execution_count": null,
   "id": "1651383f",
   "metadata": {},
   "outputs": [],
   "source": [
    "# Function that takes in movie title as input and outputs most similar movies\n",
    "#Takes a movie title as input and output top 10 similar movies.\n",
    "def get_recommendations(title, cosine_sim=cosine_sim):\n",
    "    #Take index of movies matching the title\n",
    "    idx = indices[title]\n",
    "    # Pairwise similarity score of movies with input\n",
    "    sim_scores = list(enumerate(cosine_sim[idx]))\n",
    "    # Similarity based sorting\n",
    "    sim_scores = sorted(sim_scores, key=lambda x: x[1], reverse=True)\n",
    "    # Determine top 10 movies\n",
    "    sim_scores = sim_scores[1:11]\n",
    "    # Determining movie indices\n",
    "    movie_indices = [i[0] for i in sim_scores]\n",
    "    # Return the top 10 most similar movies\n",
    "    return metadata['title'].iloc[movie_indices]\n",
    "get_recommendations('Toy Story')"
   ]
  }
 ],
 "metadata": {
  "kernelspec": {
   "display_name": "Python 3",
   "language": "python",
   "name": "python3"
  },
  "language_info": {
   "codemirror_mode": {
    "name": "ipython",
    "version": 3
   },
   "file_extension": ".py",
   "mimetype": "text/x-python",
   "name": "python",
   "nbconvert_exporter": "python",
   "pygments_lexer": "ipython3",
   "version": "3.8.8"
  }
 },
 "nbformat": 4,
 "nbformat_minor": 5
}
